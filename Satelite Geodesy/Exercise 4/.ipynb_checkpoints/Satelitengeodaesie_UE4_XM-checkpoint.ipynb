{
 "cells": [
  {
   "cell_type": "markdown",
   "metadata": {},
   "source": [
    "# Satelitengeodäsie - Übung 4\n",
    "\n",
    "## Xeno Meienberg"
   ]
  },
  {
   "cell_type": "markdown",
   "metadata": {},
   "source": [
    "### Aufgabe 1\n",
    "\n",
    "Die Halbachse der Erdumlaufbahn beträgt 400'000 km ($a$). Die Umlaufzeit beträgt 27 Tage ($T$). Schätzen Sie die gesamte Masse des Erde-Mond-Systems ($G=6.673 \\cdot 10^{-11}~m^3kg^{-1}s^{-2}$)\n",
    "\n",
    "### Lösung Aufgabe 1:\n",
    "\n",
    "Es gilt folgende Gleichung (3. Kepler Gesetz):\n",
    "\n",
    "$$ C = \\frac{T^2}{a^3} = \\frac{4 \\pi^2}{G(M+m)} = const. $$\n",
    "\n",
    "welche aufgelöst nach $(M+m)$, also Masse des Erde-Mond-Systems ($M=$ Masse Erde, $m=$ Masse Mond ) folgende Gleichung gilt:\n",
    "\n",
    "$$ M+m = \\frac{4 \\pi^2 \\cdot a^3}{G \\cdot T^2}$$"
   ]
  },
  {
   "cell_type": "code",
   "execution_count": 1,
   "metadata": {},
   "outputs": [
    {
     "name": "stdout",
     "output_type": "stream",
     "text": [
      "Masse Erde-Mond-System: 6.957665932652242e+24 kg\n"
     ]
    }
   ],
   "source": [
    "import math\n",
    "\n",
    "a_1 = 400000*1000 #a [m]\n",
    "T_1 = 27*24*60*60 #T [s]\n",
    "G_1 = 6.673*10**(-11) #G [m3kg-1s-2]\n",
    "\n",
    "M_m_1 = 4*(math.pi)**2*(a_1**3)/((T_1**2)*G_1)\n",
    "\n",
    "print('Masse Erde-Mond-System:',M_m_1,'kg')\n"
   ]
  },
  {
   "cell_type": "markdown",
   "metadata": {},
   "source": [
    "### Aufgabe 2\n",
    "\n",
    "Für einen Sateliten, der sich um die Erde bewegt, sei die Umlaufzeit $T$ und die pro Zeiteinheit überstrichene Fläche $c$ gegeben:\n",
    "\n",
    "$$ T = 8720~s $$\n",
    "$$ c = 9.448 \\cdot 10^{9}~m^2/s $$\n",
    "$$ GM = 3.986 \\cdot 10^{14}~m^3/s^2 $$\n",
    "\n",
    "- Bestimmen Sie die Grosse und die kleine Halbachse $a$ und $b$ der Ellipse\n",
    "- Bestimmen Sie die wahre Anomalie zum Zeitpunkt $t_1 = 2^h 30^m$, wenn der Durchgang durch das Perigäum bei $t_0 = 2^h 20^m$ liegt.\n",
    "- Bestimmen Sie die Koordinaten $x$, $y$ des Sateliten und seine Geschwindigkeit bei $t_1$, im System der Bahnebene ($x$-Achse in Richtung Perigäum, $z$-Achse senkrecht zu Bahnebene, $y$-Achse ergänzt das Rechtssystem)"
   ]
  },
  {
   "cell_type": "markdown",
   "metadata": {},
   "source": [
    "#### Lösung Aufgabenteil 1 von Aufgabe 2:\n",
    "\n",
    "Wieder gilt das 3. Kepler Gesetz:\n",
    "\n",
    "$$ C = \\frac{T^2}{a^3} = \\frac{4 \\pi^2}{G(M+m)} = const. $$\n",
    "\n",
    "Hierbei ist die Satelitenmasse vernachlässigbar klein, also wird $GM$ statt $G(M+m)$ hier berücksichtigt. Somit ist mit gegebenem $T$ die Halbachse $a$ bestimmbar:\n",
    "\n",
    "$$  a = \\sqrt[3]{\\frac{T^2 \\cdot GM}{4\\pi^2}}$$\n",
    "\n",
    "Der Flächeninhalt der Ellipse ist:\n",
    "\n",
    "$$ A_{ellipse} = \\pi \\cdot a \\cdot b = c \\cdot T $$\n",
    "\n",
    "Mit gegebenem $c$, $T$ und $a$ lässt sich nun Halbachse $b$ bestimmen.\n",
    "\n",
    "$$ b = \\frac{c\\cdot T}{\\pi \\cdot a} $$\n",
    "\n",
    "Die Ellipsengleichung lautet (implizit):\n",
    "\n",
    "$$ \\frac{x^2}{a^2} + \\frac{y^2}{b^2} = 1$$\n",
    "\n",
    "Parametrisiert wäre dies beschrieben durch:\n",
    "\n",
    "$$ (x,y) = (a \\cos{t}, b \\sin{t}) $$"
   ]
  },
  {
   "cell_type": "code",
   "execution_count": 2,
   "metadata": {},
   "outputs": [
    {
     "name": "stdout",
     "output_type": "stream",
     "text": [
      "Halbachse a: 9156654.813322209 m\n",
      "Halbachse b: 2863977.846857297 m\n",
      "100\n"
     ]
    },
    {
     "data": {
      "text/plain": [
       "[<matplotlib.lines.Line2D at 0x105365ca0>]"
      ]
     },
     "execution_count": 2,
     "metadata": {},
     "output_type": "execute_result"
    },
    {
     "data": {
      "image/png": "[encoded data removed]",
      "text/plain": [
       "<Figure size 432x288 with 1 Axes>"
      ]
     },
     "metadata": {
      "needs_background": "light"
     },
     "output_type": "display_data"
    }
   ],
   "source": [
    "import numpy as np\n",
    "import matplotlib.pyplot as plt\n",
    "\n",
    "T_2 = 8720 #T in s\n",
    "c_2 = 9.448*10**9 #c in m2s-1\n",
    "gm_2 = 3.986*10**14 #GM in m3s-2\n",
    "a_2 = (T_2**2*gm_2/(4*math.pi**2))**(1/3) # a in m\n",
    "b_2 = (c_2*T_2)/(math.pi*a_2) # b in m\n",
    "\n",
    "print('Halbachse a:',a_2,'m')\n",
    "print('Halbachse b:',b_2,'m')\n",
    "\n",
    "length=100\n",
    "\n",
    "t_2 = np.linspace(0.0,2.0*math.pi, num=length)\n",
    "print(len(t_2))\n",
    "x_2 = np.empty(length)\n",
    "y_2 = np.empty(length)\n",
    "\n",
    "for i in range(len(t_2)):\n",
    "\n",
    "    x_2[i] = a_2*math.cos(t_2[i])\n",
    "    y_2[i] = b_2*math.sin(t_2[i])\n",
    "\n",
    "plt.plot(x_2,y_2)"
   ]
  },
  {
   "cell_type": "markdown",
   "metadata": {},
   "source": [
    "#### Lösung Aufgabenteil 2 von Aufgabe 2:\n",
    "\n",
    "Die Mittlere Anomalie wird folgendermassen bestimmt, wobei $n = 2 \\pi / T$ ist:\n",
    "\n",
    "$$ M(t) = n \\cdot (t-t_0) $$\n",
    "\n",
    "Daraus lässt sich die exzentrische Anomalie bestimen:\n",
    "\n",
    "$$ E = M + e \\sin E $$\n",
    "\n",
    "Und schlussendlich die wahre Anomalie:\n",
    "\n",
    "$$\\tan \\frac{\\nu}{2} = \\sqrt{\\frac{1+e}{1-e}}\\cdot \\tan \\frac{E}{2} $$\n",
    "\n",
    "Im allgemeinen gilt für die Exzentrizität für Ellipsen folgende Gleichung:\n",
    "\n",
    "$$ e = \\sqrt{1-\\frac{b^2}{a^2}}$$\n",
    "\n",
    "Die Kepler-Gleichung für exzentrische Anomalie muss iterativ bestimmt werden. Das heisst, dass wenn nach einer gewissen Anzahl Schritten die exzentrische Anomalie $E$ sich nicht mehr im Wert signifikant ändert. Entweder kann dies via ein Fixpunktverfahren oder durch das Newton'sche Verfahren erreicht werden. Für das Newtonsche Verfahren kann folgende Gleichung verwendet werden:\n",
    "\n",
    "$$ 0 = E - e \\sin{E} - M = F(E) $$\n",
    "$$ E_{n+1} = E_n - \\frac{F(E_n)}{F'(E_n)} = E_n - \\frac{E_n - e \\sin{E_n}-M}{1-e\\cos{E_n}} $$"
   ]
  },
  {
   "cell_type": "code",
   "execution_count": 3,
   "metadata": {},
   "outputs": [
    {
     "name": "stdout",
     "output_type": "stream",
     "text": [
      "M: 0.43232926425547613 rad\n",
      "Eccentricity 0.9498270623596591\n",
      "E initial: 0.43232926425547613 rad\n",
      "E current: 3.3252667569515486 rad\n",
      "E current: 1.7396130632130122 rad\n",
      "E current: 1.4197064984626393 rad\n",
      "E current: 1.3632666940064169 rad\n",
      "E current: 1.3614130207990711 rad\n",
      "E current: 1.361411031408348 rad\n",
      "E current: 1.3614110314060572 rad\n",
      "E current: 1.3614110314060575 rad\n",
      "E final: 1.3614110314060575 rad\n",
      "Wahre Anomalie Nu: 2.7504927345257717 rad\n",
      "Wahre Anomalie Nu: 157.5916252697235 deg\n"
     ]
    }
   ],
   "source": [
    "n_2 = 2*math.pi/T_2 # n in 1/sec\n",
    "t_2_1 = (2*60+30)*60 # t1 in sec\n",
    "t_2_0 = (2*60+20)*60 # t2 in sec\n",
    "\n",
    "M_2 = n_2*(t_2_1-t_2_0) #M in radian\n",
    "M_2_deg = M_2*180/math.pi #M in degree\n",
    "print('M:', M_2,'rad')\n",
    "\n",
    "e_2 = math.sqrt(1-(b_2**2/a_2**2))\n",
    "print('Eccentricity',e_2)\n",
    "\n",
    "noi = 8 #number of iterations = noi\n",
    "E_2 = M_2 #initial E value\n",
    "print('E initial:', E_2,'rad')\n",
    "\n",
    "for i in range(noi):\n",
    "    E_2 = E_2 - (E_2 - e_2*math.sin(E_2)-M_2)/(1-e_2*math.cos(E_2))\n",
    "    print('E current:', E_2,'rad')\n",
    "\n",
    "print('E final:', E_2,'rad')\n",
    "\n",
    "nu_2 = math.acos((math.cos(E_2)-e_2)/(1-e_2*math.cos(E_2)))\n",
    "\n",
    "print('Wahre Anomalie Nu:',nu_2,'rad')\n",
    "print('Wahre Anomalie Nu:',nu_2*180/math.pi,'deg')"
   ]
  },
  {
   "cell_type": "markdown",
   "metadata": {},
   "source": [
    "#### Lösung Aufgabenteil 3 von Aufgabe 2:\n",
    "\n",
    "Der geozentrische Abstand $r(\\nu)$ lässt sich folgendermassen bestimmen:\n",
    "\n",
    "$$ r(\\nu) = \\frac{p}{1+e\\cdot \\cos\\nu}$$\n",
    "\n",
    "Die Koordinaten im System der Bahnebene lauten:\n",
    "\n",
    "$$ x = r \\cos \\nu $$\n",
    "$$ y = r \\sin \\nu $$\n",
    "\n",
    "beim vorherigen $t_1 = 2^h 30^m$ ergibt sich also:"
   ]
  },
  {
   "cell_type": "code",
   "execution_count": 4,
   "metadata": {},
   "outputs": [
    {
     "name": "stdout",
     "output_type": "stream",
     "text": [
      "X-Position: -6793948.539262236 m\n",
      "Y-Position 2801425.3378166384 m\n",
      "Geschwindigkeit 0.00034988885923470164 m/s\n"
     ]
    }
   ],
   "source": [
    "r_2 = a_2*(1-e_2**2) / (1+e_2*math.cos(nu_2))\n",
    "x_2 = r_2 * math.cos(nu_2)\n",
    "y_2 = r_2 * math.sin(nu_2)\n",
    "\n",
    "print('X-Position:', x_2, 'm')\n",
    "print('Y-Position', y_2, 'm')\n",
    "\n",
    "dnudt = 2*math.pi*a_2*b_2/(r_2**2*T_2)\n",
    "\n",
    "print('Geschwindigkeit',dnudt, 'm/s')"
   ]
  },
  {
   "cell_type": "markdown",
   "metadata": {},
   "source": [
    "#### Lösung Aufgabe 3\n",
    "\n",
    "Ähnlich gerechnet wie in Aufgabenteil 2 von Aufgabe 2, wird hier anhand der gegebenen Parameter gesucht, wann der Satelit den nächsten (Perigäum) und fernsten Punkt (Apogäum) in der Ellipsenbahn erreicht wird. Dies bedeutet, wenn die Distanz genau den Halbachsen $b$ und $a$ entsprechen.\n",
    "\n",
    "Die gegebenen Parameter sind:\n",
    "\n",
    "$$ T = 2^h 30^m 20^s = 9020^s $$\n",
    "$$ e = 0.3 $$\n",
    "$$ t = 16^h 45^m 50^s = 60350^s $$\n",
    "$$ \\nu (t) = 51^° 30' 36'' = 51.51^° = 0.89901977~rad$$\n",
    "\n",
    "Somit erhält man mittels $\\nu$ und $e$ zum gegebenen Zeitpunkt $E$:\n",
    "\n",
    "$$ E = 2 \\cdot \\arctan2 \\left( \\sqrt{\\frac{1-e}{1+e}}\\cdot \\tan \\frac{\\nu}{2}\\right) $$\n",
    "\n",
    "Ebenso lässt sich durch gegebenes E auch M bestimmen:\n",
    "\n",
    "$$ M = E - e \\sin E $$\n",
    "\n",
    "$n$ lässt sich durch folgende Gleichung bestimmen, ergo auch $t_0$ consequent:\n",
    "\n",
    "$$ n = \\frac{2 \\pi}{T} $$\n",
    "$$ t_0 = t - \\frac{M}{n} = t - \\frac{(E- e \\sin E) \\cdot T}{2\\pi}$$\n",
    "\n",
    "Zum Zeitpunkt $t_0$ ist der Satelit beim Perigäum. $T/2$ in der Zukunft ist der Satelit beim nächsten Apogäum, und nach $T$ in der Zukunft beim Perigäum:\n",
    "\n",
    "$$ t_{apogee} = t_0 + T/2 $$\n",
    "$$ t_{perigee} = t_0 + T4 $$\n",
    "\n",
    "Die Zeit, welche benötigt wird, bis beide Punkte erreicht werden, lässt sich nun einfach berechnen, nämlich durch den Abzug des momentanen Zeitpunkts der Rechnung:\n",
    "\n",
    "$$ t_{until~apogee} = t_{apogee} - t $$\n",
    "$$ t_{until~perigee} = t_{perigee} - t $$"
   ]
  },
  {
   "cell_type": "code",
   "execution_count": 5,
   "metadata": {},
   "outputs": [
    {
     "name": "stdout",
     "output_type": "stream",
     "text": [
      "Time at next Apogee: 64154.0542463802 s\n",
      "Time at next Perigee: 68664.0542463802 s\n",
      "Time until reaching next Apogee: 3804.0542463801976 s\n",
      "Time until reaching next Perigee: 8314.054246380198 s\n"
     ]
    }
   ],
   "source": [
    "T_3 = 9020 #T in s\n",
    "e_3 = 0.3 #e in []\n",
    "t_3 = 60350 #t in s\n",
    "nu_3 = 51.51/180*math.pi #nu in rad\n",
    "\n",
    "E_3 = 2 * math.atan(math.sqrt((1-e_3)/(1+e_3))*math.tan(nu_3/2))\n",
    "M_3 = E_3 - e_3 * math.sin(E_3)\n",
    "t_3_0 = t_3 - M_3*T_3/(2*math.pi)\n",
    "\n",
    "t_3_apo = t_3_0 + T_3/2\n",
    "t_3_per = t_3_0 + T_3\n",
    "\n",
    "print('Time at next Apogee:',t_3_apo,'s')\n",
    "print('Time at next Perigee:',t_3_per, 's')\n",
    "\n",
    "t_to_per = t_3_per - t_3\n",
    "t_to_apo = t_3_apo - t_3\n",
    "\n",
    "print('Time until reaching next Apogee:',t_to_apo,'s')\n",
    "print('Time until reaching next Perigee:',t_to_per,'s')"
   ]
  },
  {
   "cell_type": "markdown",
   "metadata": {},
   "source": [
    "#### Lösung Aufgabe 4\n",
    "\n",
    "In dieser Aufgabe ist $\\omega$, also die Winkelgeschwindigkeit des Sateliten gegeben. Man nehme an, dass $m$ vernachlässigbar klein ist, und dass $GM = 3.986\\cdot 10^{14}~m^3/s^2$ beträgt. Es gilt folgende Gleichung:\n",
    "\n",
    "$$ C = \\frac{T^2}{a^3} = \\frac{4 \\pi^2}{G(m+M)} $$\n",
    "\n",
    "Es folgt für $a = H+r_{Erde}$$:\n",
    "\n",
    "$$H = \\sqrt[3]{\\frac{GM \\cdot T^2}{4 \\pi^2}} - r_{Erde} $$\n",
    "\n",
    "Wobei $T = \\frac{2\\pi}{\\omega}$"
   ]
  },
  {
   "cell_type": "code",
   "execution_count": 6,
   "metadata": {},
   "outputs": [
    {
     "name": "stdout",
     "output_type": "stream",
     "text": [
      "Höhe Satelit über Erdoberfläche 35794.31216630684 km\n"
     ]
    }
   ],
   "source": [
    "import math\n",
    "\n",
    "omega = 7.29*10**(-5) #omega in rad/s\n",
    "gm_4 = 3.986*10**(14) #GM in m3s-2\n",
    "r_earth = 6378*1000 #radius earth in m\n",
    "\n",
    "T_4 = 2*math.pi/omega\n",
    "\n",
    "H_4 = ((gm_4*T_4**2/(4*math.pi**2))**(1/3) - r_earth)/1000 #H in km\n",
    "\n",
    "print('Höhe Satelit über Erdoberfläche',H_4,'km')"
   ]
  }
 ],
 "metadata": {
  "interpreter": {
   "hash": "b0fa6594d8f4cbf19f97940f81e996739fb7646882a419484c72d19e05852a7e"
  },
  "kernelspec": {
   "display_name": "Python 3 (ipykernel)",
   "language": "python",
   "name": "python3"
  },
  "language_info": {
   "codemirror_mode": {
    "name": "ipython",
    "version": 3
   },
   "file_extension": ".py",
   "mimetype": "text/x-python",
   "name": "python",
   "nbconvert_exporter": "python",
   "pygments_lexer": "ipython3",
   "version": "3.9.9"
  }
 },
 "nbformat": 4,
 "nbformat_minor": 2
}
